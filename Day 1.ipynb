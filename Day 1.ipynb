{
 "cells": [
  {
   "cell_type": "code",
   "execution_count": 1,
   "id": "5c5c4618-5cc0-4883-b391-c5d84fa58972",
   "metadata": {},
   "outputs": [],
   "source": [
    "s=['mayank','mansi','khushi','ritik']"
   ]
  },
  {
   "cell_type": "code",
   "execution_count": 2,
   "id": "8fd57f2e-c512-4bea-98a9-935fa428f5fc",
   "metadata": {},
   "outputs": [],
   "source": [
    "s.insert(2,'chanchal')"
   ]
  },
  {
   "cell_type": "code",
   "execution_count": 3,
   "id": "4b868a18-7c45-499a-88af-cce2d0cd5463",
   "metadata": {},
   "outputs": [
    {
     "data": {
      "text/plain": [
       "['mayank', 'mansi', 'chanchal', 'khushi', 'ritik']"
      ]
     },
     "execution_count": 3,
     "metadata": {},
     "output_type": "execute_result"
    }
   ],
   "source": [
    "s"
   ]
  },
  {
   "cell_type": "code",
   "execution_count": 4,
   "id": "a00134c5-fd60-4184-bdb4-e478b2687981",
   "metadata": {},
   "outputs": [],
   "source": [
    "s.remove('ritik')"
   ]
  },
  {
   "cell_type": "code",
   "execution_count": 5,
   "id": "26a87d65-18e1-4935-bc9f-de93b9ede4d5",
   "metadata": {},
   "outputs": [
    {
     "data": {
      "text/plain": [
       "['mayank', 'mansi', 'chanchal', 'khushi']"
      ]
     },
     "execution_count": 5,
     "metadata": {},
     "output_type": "execute_result"
    }
   ],
   "source": [
    "s"
   ]
  },
  {
   "cell_type": "code",
   "execution_count": 6,
   "id": "e0bf2f47-981a-4e84-9db3-a3be00032e45",
   "metadata": {},
   "outputs": [],
   "source": [
    "s.append('ritik')"
   ]
  },
  {
   "cell_type": "code",
   "execution_count": 7,
   "id": "c4f87632-26ae-439c-8637-80ffbcfdf6b6",
   "metadata": {},
   "outputs": [
    {
     "data": {
      "text/plain": [
       "['mayank', 'mansi', 'chanchal', 'khushi', 'ritik']"
      ]
     },
     "execution_count": 7,
     "metadata": {},
     "output_type": "execute_result"
    }
   ],
   "source": [
    "s"
   ]
  },
  {
   "cell_type": "code",
   "execution_count": 47,
   "id": "77289150-27f3-45dd-8f6e-87705cf63101",
   "metadata": {},
   "outputs": [],
   "source": [
    "m=[1,2,3,4,5]"
   ]
  },
  {
   "cell_type": "code",
   "execution_count": 9,
   "id": "5d9d64c6-b089-40dc-8738-416920dc4ba8",
   "metadata": {},
   "outputs": [],
   "source": [
    "s.append(m)"
   ]
  },
  {
   "cell_type": "code",
   "execution_count": 10,
   "id": "0027f179-2e8b-46c4-ab5b-67affa21aae0",
   "metadata": {},
   "outputs": [
    {
     "data": {
      "text/plain": [
       "['mayank', 'mansi', 'chanchal', 'khushi', 'ritik', [1, 2, 3, 4, 5]]"
      ]
     },
     "execution_count": 10,
     "metadata": {},
     "output_type": "execute_result"
    }
   ],
   "source": [
    "s"
   ]
  },
  {
   "cell_type": "code",
   "execution_count": 12,
   "id": "fefd6691-16eb-4daf-a912-133fa90a33c2",
   "metadata": {},
   "outputs": [
    {
     "data": {
      "text/plain": [
       "6"
      ]
     },
     "execution_count": 12,
     "metadata": {},
     "output_type": "execute_result"
    }
   ],
   "source": [
    "len(s)"
   ]
  },
  {
   "cell_type": "code",
   "execution_count": 13,
   "id": "7c1b6b49-7649-4bdd-8ecc-0e2d024f2191",
   "metadata": {},
   "outputs": [
    {
     "data": {
      "text/plain": [
       "[1, 2, 3, 4, 5]"
      ]
     },
     "execution_count": 13,
     "metadata": {},
     "output_type": "execute_result"
    }
   ],
   "source": [
    "s.pop()"
   ]
  },
  {
   "cell_type": "code",
   "execution_count": 14,
   "id": "13dbcd30-5882-4fa2-85b0-81be8299bf97",
   "metadata": {},
   "outputs": [
    {
     "data": {
      "text/plain": [
       "['mayank', 'mansi', 'chanchal', 'khushi', 'ritik']"
      ]
     },
     "execution_count": 14,
     "metadata": {},
     "output_type": "execute_result"
    }
   ],
   "source": [
    "s"
   ]
  },
  {
   "cell_type": "code",
   "execution_count": 15,
   "id": "496e7ee7-bced-43c6-b79a-192974f7eee3",
   "metadata": {},
   "outputs": [],
   "source": [
    "s.append(m)"
   ]
  },
  {
   "cell_type": "code",
   "execution_count": 16,
   "id": "37010656-52e1-4352-82bc-c7dc05a4ef3c",
   "metadata": {},
   "outputs": [
    {
     "data": {
      "text/plain": [
       "['mayank', 'mansi', 'chanchal', 'khushi', 'ritik', [1, 2, 3, 4, 5]]"
      ]
     },
     "execution_count": 16,
     "metadata": {},
     "output_type": "execute_result"
    }
   ],
   "source": [
    "s"
   ]
  },
  {
   "cell_type": "code",
   "execution_count": 17,
   "id": "ba3f9848-1193-494e-89c3-f06de8d8ba19",
   "metadata": {},
   "outputs": [
    {
     "data": {
      "text/plain": [
       "2"
      ]
     },
     "execution_count": 17,
     "metadata": {},
     "output_type": "execute_result"
    }
   ],
   "source": [
    "s[5][1]"
   ]
  },
  {
   "cell_type": "code",
   "execution_count": 18,
   "id": "7c47fd40-9fe1-4325-9e71-1c85d502b549",
   "metadata": {},
   "outputs": [
    {
     "data": {
      "text/plain": [
       "[1, 2, 3, 4, 5]"
      ]
     },
     "execution_count": 18,
     "metadata": {},
     "output_type": "execute_result"
    }
   ],
   "source": [
    "s.pop()"
   ]
  },
  {
   "cell_type": "code",
   "execution_count": 19,
   "id": "1670f879-137f-4bb0-8048-ddbd4185a744",
   "metadata": {},
   "outputs": [
    {
     "data": {
      "text/plain": [
       "['mayank', 'mansi', 'chanchal', 'khushi', 'ritik']"
      ]
     },
     "execution_count": 19,
     "metadata": {},
     "output_type": "execute_result"
    }
   ],
   "source": [
    "s"
   ]
  },
  {
   "cell_type": "code",
   "execution_count": 20,
   "id": "d47e9981-6957-40fc-aa57-fe5b011c40d5",
   "metadata": {},
   "outputs": [],
   "source": [
    "s.clear()"
   ]
  },
  {
   "cell_type": "code",
   "execution_count": 21,
   "id": "e5da203b-cb8e-4375-aee3-55f0ba61285e",
   "metadata": {},
   "outputs": [
    {
     "data": {
      "text/plain": [
       "[]"
      ]
     },
     "execution_count": 21,
     "metadata": {},
     "output_type": "execute_result"
    }
   ],
   "source": [
    "s"
   ]
  },
  {
   "cell_type": "code",
   "execution_count": 28,
   "id": "2ef77aba-bceb-4bea-94c6-4343e3be0672",
   "metadata": {},
   "outputs": [],
   "source": [
    "t={'a':[2,22,33,221] ,'b':3,'c':4,'d':5,'e':6,'f':76,'g':32}"
   ]
  },
  {
   "cell_type": "code",
   "execution_count": 29,
   "id": "7e4c203d-3788-48d0-ab59-691c382035aa",
   "metadata": {},
   "outputs": [
    {
     "data": {
      "text/plain": [
       "{'a': [2, 22, 33, 221], 'b': 3, 'c': 4, 'd': 5, 'e': 6, 'f': 76, 'g': 32}"
      ]
     },
     "execution_count": 29,
     "metadata": {},
     "output_type": "execute_result"
    }
   ],
   "source": [
    "t"
   ]
  },
  {
   "cell_type": "code",
   "execution_count": 30,
   "id": "6d67ed07-0325-4f54-8ed3-d467edc39cce",
   "metadata": {},
   "outputs": [
    {
     "data": {
      "text/plain": [
       "[2, 22, 33, 221]"
      ]
     },
     "execution_count": 30,
     "metadata": {},
     "output_type": "execute_result"
    }
   ],
   "source": [
    "t['a']"
   ]
  },
  {
   "cell_type": "code",
   "execution_count": 31,
   "id": "abbadbe8-ea44-4426-9e1b-b66116d23973",
   "metadata": {},
   "outputs": [
    {
     "data": {
      "text/plain": [
       "[2, 22, 33, 221]"
      ]
     },
     "execution_count": 31,
     "metadata": {},
     "output_type": "execute_result"
    }
   ],
   "source": [
    "t.get('a')"
   ]
  },
  {
   "cell_type": "code",
   "execution_count": 32,
   "id": "c4759be7-da9a-4c86-a5a9-985fa845b411",
   "metadata": {},
   "outputs": [],
   "source": [
    "t['b']=47"
   ]
  },
  {
   "cell_type": "code",
   "execution_count": 33,
   "id": "93d3aba0-14d6-4d92-9076-aaf8a7b520dd",
   "metadata": {},
   "outputs": [
    {
     "data": {
      "text/plain": [
       "{'a': [2, 22, 33, 221], 'b': 47, 'c': 4, 'd': 5, 'e': 6, 'f': 76, 'g': 32}"
      ]
     },
     "execution_count": 33,
     "metadata": {},
     "output_type": "execute_result"
    }
   ],
   "source": [
    "t"
   ]
  },
  {
   "cell_type": "code",
   "execution_count": 34,
   "id": "c315d8b2-84b0-4158-850d-bc7d778f9af8",
   "metadata": {},
   "outputs": [
    {
     "data": {
      "text/plain": [
       "7"
      ]
     },
     "execution_count": 34,
     "metadata": {},
     "output_type": "execute_result"
    }
   ],
   "source": [
    "len(t)"
   ]
  },
  {
   "cell_type": "code",
   "execution_count": 35,
   "id": "bd1c239a-18f5-4d7d-b718-de1d11d4bace",
   "metadata": {},
   "outputs": [],
   "source": [
    "d=(1,2,3,43,21,54)"
   ]
  },
  {
   "cell_type": "code",
   "execution_count": 36,
   "id": "7b0ce03b-4aa1-40a0-8e0f-64c43c2b657c",
   "metadata": {},
   "outputs": [
    {
     "ename": "AttributeError",
     "evalue": "'tuple' object has no attribute 'insert'",
     "output_type": "error",
     "traceback": [
      "\u001b[0;31m---------------------------------------------------------------------------\u001b[0m",
      "\u001b[0;31mAttributeError\u001b[0m                            Traceback (most recent call last)",
      "\u001b[0;32m/var/folders/h1/whxjcv350wd_f0by6ypb2_fm0000gn/T/ipykernel_29913/2322239985.py\u001b[0m in \u001b[0;36m<module>\u001b[0;34m\u001b[0m\n\u001b[0;32m----> 1\u001b[0;31m \u001b[0md\u001b[0m\u001b[0;34m.\u001b[0m\u001b[0minsert\u001b[0m\u001b[0;34m(\u001b[0m\u001b[0;36m3\u001b[0m\u001b[0;34m,\u001b[0m\u001b[0;36m99\u001b[0m\u001b[0;34m)\u001b[0m\u001b[0;34m\u001b[0m\u001b[0;34m\u001b[0m\u001b[0m\n\u001b[0m",
      "\u001b[0;31mAttributeError\u001b[0m: 'tuple' object has no attribute 'insert'"
     ]
    }
   ],
   "source": [
    "d.insert(3,99)"
   ]
  },
  {
   "cell_type": "code",
   "execution_count": 37,
   "id": "18bd185c-7112-4c61-92a1-9e68c35c3b5a",
   "metadata": {},
   "outputs": [
    {
     "data": {
      "text/plain": [
       "6"
      ]
     },
     "execution_count": 37,
     "metadata": {},
     "output_type": "execute_result"
    }
   ],
   "source": [
    "len(d)\n"
   ]
  },
  {
   "cell_type": "code",
   "execution_count": 38,
   "id": "9d434422-b5c3-49ff-abbf-b386ba14afad",
   "metadata": {},
   "outputs": [
    {
     "data": {
      "text/plain": [
       "(1, 2, 3, 43, 21, 54)"
      ]
     },
     "execution_count": 38,
     "metadata": {},
     "output_type": "execute_result"
    }
   ],
   "source": [
    "d"
   ]
  },
  {
   "cell_type": "code",
   "execution_count": 40,
   "id": "7d6e7e15-ec12-4cd7-84d6-4287574a47fa",
   "metadata": {},
   "outputs": [
    {
     "data": {
      "text/plain": [
       "3"
      ]
     },
     "execution_count": 40,
     "metadata": {},
     "output_type": "execute_result"
    }
   ],
   "source": [
    "d[2]"
   ]
  },
  {
   "cell_type": "code",
   "execution_count": 41,
   "id": "3f86e6a1-875d-412c-a47f-f6e3aa26bec5",
   "metadata": {},
   "outputs": [
    {
     "data": {
      "text/plain": [
       "5"
      ]
     },
     "execution_count": 41,
     "metadata": {},
     "output_type": "execute_result"
    }
   ],
   "source": [
    "a=2\n",
    "b=3\n",
    "c=a+b\n",
    "c"
   ]
  },
  {
   "cell_type": "code",
   "execution_count": 43,
   "id": "a6afe30b-4ac0-4eb8-bb67-b139db14b929",
   "metadata": {},
   "outputs": [
    {
     "name": "stdin",
     "output_type": "stream",
     "text": [
      " 5\n"
     ]
    },
    {
     "name": "stdout",
     "output_type": "stream",
     "text": [
      "positive\n"
     ]
    }
   ],
   "source": [
    "x=int(input())\n",
    "if(x>0):\n",
    "    print('positive')\n",
    "else:\n",
    "    print('negative')"
   ]
  },
  {
   "cell_type": "code",
   "execution_count": 44,
   "id": "da4344bc-f226-4561-ade5-a20ceaef2f36",
   "metadata": {},
   "outputs": [
    {
     "data": {
      "text/plain": [
       "(1, 2, 3, 43, 21, 54)"
      ]
     },
     "execution_count": 44,
     "metadata": {},
     "output_type": "execute_result"
    }
   ],
   "source": [
    "d"
   ]
  },
  {
   "cell_type": "code",
   "execution_count": 48,
   "id": "98bf8bca-9417-4ac2-b5b3-a77ab80691f7",
   "metadata": {},
   "outputs": [
    {
     "data": {
      "text/plain": [
       "[1, 2, 3, 4, 5]"
      ]
     },
     "execution_count": 48,
     "metadata": {},
     "output_type": "execute_result"
    }
   ],
   "source": [
    "m"
   ]
  },
  {
   "cell_type": "code",
   "execution_count": 49,
   "id": "d6e0d86d-30b6-47f0-b27b-4a19ada73564",
   "metadata": {},
   "outputs": [
    {
     "ename": "AttributeError",
     "evalue": "'list' object has no attribute 'max'",
     "output_type": "error",
     "traceback": [
      "\u001b[0;31m---------------------------------------------------------------------------\u001b[0m",
      "\u001b[0;31mAttributeError\u001b[0m                            Traceback (most recent call last)",
      "\u001b[0;32m/var/folders/h1/whxjcv350wd_f0by6ypb2_fm0000gn/T/ipykernel_29913/2644646902.py\u001b[0m in \u001b[0;36m<module>\u001b[0;34m\u001b[0m\n\u001b[0;32m----> 1\u001b[0;31m \u001b[0mm\u001b[0m\u001b[0;34m.\u001b[0m\u001b[0mmax\u001b[0m\u001b[0;34m(\u001b[0m\u001b[0;34m)\u001b[0m\u001b[0;34m\u001b[0m\u001b[0;34m\u001b[0m\u001b[0m\n\u001b[0m",
      "\u001b[0;31mAttributeError\u001b[0m: 'list' object has no attribute 'max'"
     ]
    }
   ],
   "source": [
    "m.max()"
   ]
  },
  {
   "cell_type": "code",
   "execution_count": 50,
   "id": "24080e95-335d-49f1-99d8-ffa7288e69b1",
   "metadata": {},
   "outputs": [
    {
     "data": {
      "text/plain": [
       "5"
      ]
     },
     "execution_count": 50,
     "metadata": {},
     "output_type": "execute_result"
    }
   ],
   "source": [
    "max(m)"
   ]
  },
  {
   "cell_type": "code",
   "execution_count": 51,
   "id": "7f4b85c5-927c-42d5-a4b4-3cd7d76a4bc9",
   "metadata": {},
   "outputs": [
    {
     "name": "stdin",
     "output_type": "stream",
     "text": [
      " 2\n"
     ]
    },
    {
     "name": "stdout",
     "output_type": "stream",
     "text": [
      "tuesday\n"
     ]
    }
   ],
   "source": [
    "x=int(input())\n",
    "if(x==1):\n",
    "    print('monday')\n",
    "elif(x==2):\n",
    "    print('tuesday')\n",
    "else:\n",
    "    print('wednesday')\n",
    "    "
   ]
  },
  {
   "cell_type": "code",
   "execution_count": 75,
   "id": "e1b8fe62-ca6b-4414-b1dc-0297044a8867",
   "metadata": {},
   "outputs": [
    {
     "name": "stdin",
     "output_type": "stream",
     "text": [
      " 2\n",
      " 3\n",
      " addition\n"
     ]
    },
    {
     "ename": "TypeError",
     "evalue": "unsupported operand type(s) for +: 'int' and 'str'",
     "output_type": "error",
     "traceback": [
      "\u001b[0;31m---------------------------------------------------------------------------\u001b[0m",
      "\u001b[0;31mTypeError\u001b[0m                                 Traceback (most recent call last)",
      "\u001b[0;32m/var/folders/h1/whxjcv350wd_f0by6ypb2_fm0000gn/T/ipykernel_29913/1528147601.py\u001b[0m in \u001b[0;36m<module>\u001b[0;34m\u001b[0m\n\u001b[1;32m     13\u001b[0m \u001b[0ma\u001b[0m\u001b[0;34m=\u001b[0m\u001b[0mmenu\u001b[0m\u001b[0;34m.\u001b[0m\u001b[0mget\u001b[0m\u001b[0;34m(\u001b[0m\u001b[0mb\u001b[0m\u001b[0;34m)\u001b[0m\u001b[0;34m\u001b[0m\u001b[0;34m\u001b[0m\u001b[0m\n\u001b[1;32m     14\u001b[0m \u001b[0;32mif\u001b[0m\u001b[0;34m(\u001b[0m\u001b[0ma\u001b[0m\u001b[0;34m==\u001b[0m\u001b[0;36m1\u001b[0m\u001b[0;34m)\u001b[0m\u001b[0;34m:\u001b[0m\u001b[0;34m\u001b[0m\u001b[0;34m\u001b[0m\u001b[0m\n\u001b[0;32m---> 15\u001b[0;31m     \u001b[0maddition\u001b[0m\u001b[0;34m(\u001b[0m\u001b[0ma\u001b[0m\u001b[0;34m,\u001b[0m\u001b[0mb\u001b[0m\u001b[0;34m)\u001b[0m\u001b[0;34m\u001b[0m\u001b[0;34m\u001b[0m\u001b[0m\n\u001b[0m",
      "\u001b[0;32m/var/folders/h1/whxjcv350wd_f0by6ypb2_fm0000gn/T/ipykernel_29913/1528147601.py\u001b[0m in \u001b[0;36maddition\u001b[0;34m(a, b)\u001b[0m\n\u001b[1;32m      1\u001b[0m \u001b[0;32mdef\u001b[0m \u001b[0maddition\u001b[0m\u001b[0;34m(\u001b[0m\u001b[0ma\u001b[0m\u001b[0;34m,\u001b[0m\u001b[0mb\u001b[0m\u001b[0;34m)\u001b[0m\u001b[0;34m:\u001b[0m\u001b[0;34m\u001b[0m\u001b[0;34m\u001b[0m\u001b[0m\n\u001b[0;32m----> 2\u001b[0;31m     \u001b[0mprint\u001b[0m\u001b[0;34m(\u001b[0m\u001b[0ma\u001b[0m\u001b[0;34m+\u001b[0m\u001b[0mb\u001b[0m\u001b[0;34m)\u001b[0m\u001b[0;34m\u001b[0m\u001b[0;34m\u001b[0m\u001b[0m\n\u001b[0m\u001b[1;32m      3\u001b[0m \u001b[0;32mdef\u001b[0m \u001b[0msub\u001b[0m\u001b[0;34m(\u001b[0m\u001b[0ma\u001b[0m\u001b[0;34m,\u001b[0m\u001b[0mb\u001b[0m\u001b[0;34m)\u001b[0m\u001b[0;34m:\u001b[0m\u001b[0;34m\u001b[0m\u001b[0;34m\u001b[0m\u001b[0m\n\u001b[1;32m      4\u001b[0m     \u001b[0mprint\u001b[0m\u001b[0;34m(\u001b[0m\u001b[0ma\u001b[0m\u001b[0;34m-\u001b[0m\u001b[0mb\u001b[0m\u001b[0;34m)\u001b[0m\u001b[0;34m\u001b[0m\u001b[0;34m\u001b[0m\u001b[0m\n\u001b[1;32m      5\u001b[0m \u001b[0;32mdef\u001b[0m \u001b[0mmulti\u001b[0m\u001b[0;34m(\u001b[0m\u001b[0ma\u001b[0m\u001b[0;34m,\u001b[0m\u001b[0mb\u001b[0m\u001b[0;34m)\u001b[0m\u001b[0;34m:\u001b[0m\u001b[0;34m\u001b[0m\u001b[0;34m\u001b[0m\u001b[0m\n",
      "\u001b[0;31mTypeError\u001b[0m: unsupported operand type(s) for +: 'int' and 'str'"
     ]
    }
   ],
   "source": [
    "\n",
    "def addition(a,b):\n",
    "    print(a+b)\n",
    "def sub(a,b):\n",
    "    print(a-b)\n",
    "def multi(a,b):\n",
    "    print(a*b)\n",
    "def div(a,b):\n",
    "    print(a/b)\n",
    "a=int (input())\n",
    "b=int (input())\n",
    "menu={'addition':1,'sub':2,'multi':3,'div':4}\n",
    "b=input()\n",
    "a=menu.get(b)\n",
    "if(a==1):\n",
    "    addition(a,b)"
   ]
  },
  {
   "cell_type": "code",
   "execution_count": 61,
   "id": "3bc8505f-9048-4329-a47a-19bdc5a2669d",
   "metadata": {},
   "outputs": [
    {
     "name": "stdin",
     "output_type": "stream",
     "text": [
      " 5\n"
     ]
    },
    {
     "name": "stdout",
     "output_type": "stream",
     "text": [
      "1\n",
      "2\n",
      "6\n",
      "24\n",
      "120\n"
     ]
    }
   ],
   "source": [
    "x=int (input())\n",
    "def factorial(x):\n",
    "    fac=1\n",
    "    for i in range (1,x+1):\n",
    "        fac=fac*i\n",
    "        print(fac)\n",
    "result =factorial(x)"
   ]
  },
  {
   "cell_type": "code",
   "execution_count": 64,
   "id": "bb460a18-28b4-4a7a-9304-202effde213b",
   "metadata": {},
   "outputs": [
    {
     "name": "stdin",
     "output_type": "stream",
     "text": [
      " anana\n"
     ]
    },
    {
     "name": "stdout",
     "output_type": "stream",
     "text": [
      "palindrome\n"
     ]
    }
   ],
   "source": [
    "\n",
    "str= input()\n",
    "def palindrome(str):\n",
    "    rev=reversed(str)\n",
    "    if list(str)==list(rev):\n",
    "        print('palindrome')\n",
    "    else:\n",
    "        print('not palindrome')\n",
    "ans=palindrome(str)\n",
    "        "
   ]
  },
  {
   "cell_type": "code",
   "execution_count": 72,
   "id": "29ccb238-48a4-42ff-8436-cecc96bad83a",
   "metadata": {},
   "outputs": [
    {
     "name": "stdin",
     "output_type": "stream",
     "text": [
      " 3 \n",
      " 5\n",
      " 6\n",
      " 7\n",
      " 2\n",
      " 3\n",
      " 4\n"
     ]
    },
    {
     "name": "stdout",
     "output_type": "stream",
     "text": [
      "not equal\n"
     ]
    }
   ],
   "source": [
    "list1=[]\n",
    "list2=[]\n",
    "def inputlist(a):\n",
    "    n =int (input())\n",
    "    for i in range(0,n):\n",
    "        ele=int (input())\n",
    "        a.append(ele)\n",
    "inputlist(list1)\n",
    "inputlist(list2)\n",
    "if (list1==list2):\n",
    "    print('equal')\n",
    "else:\n",
    "    print('not equal')\n",
    "\n",
    "\n"
   ]
  },
  {
   "cell_type": "code",
   "execution_count": null,
   "id": "301e7acb-f75c-4aa2-9cf7-4f2165fcf859",
   "metadata": {},
   "outputs": [],
   "source": []
  }
 ],
 "metadata": {
  "kernelspec": {
   "display_name": "Python 3 (ipykernel)",
   "language": "python",
   "name": "python3"
  },
  "language_info": {
   "codemirror_mode": {
    "name": "ipython",
    "version": 3
   },
   "file_extension": ".py",
   "mimetype": "text/x-python",
   "name": "python",
   "nbconvert_exporter": "python",
   "pygments_lexer": "ipython3",
   "version": "3.9.7"
  }
 },
 "nbformat": 4,
 "nbformat_minor": 5
}
